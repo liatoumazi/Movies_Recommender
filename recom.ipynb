{
 "cells": [
  {
   "attachments": {},
   "cell_type": "markdown",
   "metadata": {},
   "source": [
    "### Read data"
   ]
  },
  {
   "attachments": {},
   "cell_type": "markdown",
   "metadata": {},
   "source": [
    "**Import libraries**"
   ]
  },
  {
   "cell_type": "code",
   "execution_count": 29,
   "metadata": {},
   "outputs": [],
   "source": [
    "# libraries\n",
    "import pandas as pd\n",
    "from sklearn.metrics.pairwise import cosine_similarity\n",
    "from surprise import SVD\n",
    "from surprise import Dataset\n",
    "from surprise import Reader\n",
    "from surprise.model_selection import train_test_split\n",
    "from surprise import accuracy"
   ]
  },
  {
   "attachments": {},
   "cell_type": "markdown",
   "metadata": {},
   "source": [
    "**Read the ratings and movies dataset**"
   ]
  },
  {
   "cell_type": "code",
   "execution_count": 82,
   "metadata": {},
   "outputs": [],
   "source": [
    "ratings_df = pd.read_csv('ml-100k/u.data', sep='\\t', names=['user_id', 'movie_id', 'rating', 'timestamp'])\n",
    "movies_df = pd.read_csv('ml-100k/u.item', sep='|', encoding='latin-1', usecols=[0, 1, 5], names=['movie_id', 'title', 'genres'])"
   ]
  },
  {
   "attachments": {},
   "cell_type": "markdown",
   "metadata": {},
   "source": [
    "### Collaborative filtering"
   ]
  },
  {
   "attachments": {},
   "cell_type": "markdown",
   "metadata": {},
   "source": [
    "Collaborative filtering is a technique commonly used in recommendation systems. It involves analyzing the behavior and preferences of users to identify patterns and similarities among them. The system then uses this information to recommend items to a user based on what other users with similar preferences have liked or consumed.\n",
    "\n",
    "Collaborative filtering can be done in two ways:\n",
    "\n",
    "1. User-based collaborative filtering: This technique identifies a set of users with similar preferences to a given user, and then recommends items that these similar users have liked or consumed.\n",
    "\n",
    "2. Item-based collaborative filtering: This technique identifies a set of items that are similar to items that a user has liked or consumed in the past, and then recommends these similar items to the user.\n",
    "\n",
    "Collaborative filtering is popular because it can work well in situations where there is little information about the user or the item being recommended. It is often used in e-commerce sites, music and video streaming services, and other applications where personalized recommendations are important."
   ]
  },
  {
   "attachments": {},
   "cell_type": "markdown",
   "metadata": {},
   "source": [
    "#### User-based collaborative filtering"
   ]
  },
  {
   "attachments": {},
   "cell_type": "markdown",
   "metadata": {},
   "source": [
    "The code is implementing a user-based collaborative filtering recommendation system using Singular Value Decomposition (SVD) matrix factorization algorithm provided by the Surprise library. The code trains an SVD model on the MovieLens ratings data and then uses it to recommend movies to a given user.\n",
    "\n",
    "The code uses the Surprise library to load the MovieLens dataset, split it into training and testing sets, and train an SVD algorithm on the training set. It then uses the trained model to make predictions on the testing set and evaluates the model using RMSE. Finally, it recommends 10 movies to a user based on their past ratings, using the trained model to predict their ratings for movies they have not seen."
   ]
  },
  {
   "cell_type": "code",
   "execution_count": 83,
   "metadata": {},
   "outputs": [],
   "source": [
    "def get_user_recommendations(user_id, n=10):\n",
    "    # Define the Reader object\n",
    "    reader = Reader(rating_scale=(0.5, 5.0))\n",
    "\n",
    "    # Load the data into the Surprise dataset object\n",
    "    data = Dataset.load_from_df(ratings_df[['user_id', 'movie_id', 'rating']], reader)\n",
    "\n",
    "    # Split the data into training and testing sets\n",
    "    trainset, testset = train_test_split(data, test_size=.25)\n",
    "\n",
    "    # Define the model (SVD algorithm)\n",
    "    model = SVD()\n",
    "\n",
    "    # Train the model on the training set\n",
    "    model.fit(trainset)\n",
    "\n",
    "    # Make predictions on the testing set\n",
    "    predictions = model.test(testset)\n",
    "\n",
    "    # Evaluate the model using RMSE\n",
    "    accuracy.rmse(predictions)\n",
    "\n",
    "    # Recommend movies for a user\n",
    "    movies_not_seen = movies_df[~movies_df['movie_id'].isin(ratings_df[ratings_df['user_id'] == user_id]['movie_id'])]\n",
    "    movies_not_seen['rating'] = movies_not_seen['movie_id'].apply(lambda x: model.predict(user_id, x).est)\n",
    "    recommended_movies = movies_not_seen.sort_values('rating', ascending=False).head(n)\n",
    "    \n",
    "    return recommended_movies"
   ]
  },
  {
   "cell_type": "code",
   "execution_count": 84,
   "metadata": {},
   "outputs": [
    {
     "name": "stdout",
     "output_type": "stream",
     "text": [
      "RMSE: 0.9449\n"
     ]
    },
    {
     "name": "stderr",
     "output_type": "stream",
     "text": [
      "/var/folders/sf/x69fjdzx605fn55k8l21h2yc0000gn/T/ipykernel_41565/1079005664.py:25: SettingWithCopyWarning: \n",
      "A value is trying to be set on a copy of a slice from a DataFrame.\n",
      "Try using .loc[row_indexer,col_indexer] = value instead\n",
      "\n",
      "See the caveats in the documentation: https://pandas.pydata.org/pandas-docs/stable/user_guide/indexing.html#returning-a-view-versus-a-copy\n",
      "  movies_not_seen['rating'] = movies_not_seen['movie_id'].apply(lambda x: model.predict(user_id, x).est)\n"
     ]
    },
    {
     "data": {
      "text/html": [
       "<div>\n",
       "<style scoped>\n",
       "    .dataframe tbody tr th:only-of-type {\n",
       "        vertical-align: middle;\n",
       "    }\n",
       "\n",
       "    .dataframe tbody tr th {\n",
       "        vertical-align: top;\n",
       "    }\n",
       "\n",
       "    .dataframe thead th {\n",
       "        text-align: right;\n",
       "    }\n",
       "</style>\n",
       "<table border=\"1\" class=\"dataframe\">\n",
       "  <thead>\n",
       "    <tr style=\"text-align: right;\">\n",
       "      <th></th>\n",
       "      <th>movie_id</th>\n",
       "      <th>title</th>\n",
       "      <th>genres</th>\n",
       "      <th>rating</th>\n",
       "    </tr>\n",
       "  </thead>\n",
       "  <tbody>\n",
       "    <tr>\n",
       "      <th>407</th>\n",
       "      <td>408</td>\n",
       "      <td>Close Shave, A (1995)</td>\n",
       "      <td>0</td>\n",
       "      <td>4.712775</td>\n",
       "    </tr>\n",
       "    <tr>\n",
       "      <th>356</th>\n",
       "      <td>357</td>\n",
       "      <td>One Flew Over the Cuckoo's Nest (1975)</td>\n",
       "      <td>0</td>\n",
       "      <td>4.707950</td>\n",
       "    </tr>\n",
       "    <tr>\n",
       "      <th>301</th>\n",
       "      <td>302</td>\n",
       "      <td>L.A. Confidential (1997)</td>\n",
       "      <td>0</td>\n",
       "      <td>4.689471</td>\n",
       "    </tr>\n",
       "    <tr>\n",
       "      <th>312</th>\n",
       "      <td>313</td>\n",
       "      <td>Titanic (1997)</td>\n",
       "      <td>0</td>\n",
       "      <td>4.683084</td>\n",
       "    </tr>\n",
       "    <tr>\n",
       "      <th>483</th>\n",
       "      <td>484</td>\n",
       "      <td>Maltese Falcon, The (1941)</td>\n",
       "      <td>0</td>\n",
       "      <td>4.596896</td>\n",
       "    </tr>\n",
       "    <tr>\n",
       "      <th>317</th>\n",
       "      <td>318</td>\n",
       "      <td>Schindler's List (1993)</td>\n",
       "      <td>0</td>\n",
       "      <td>4.589585</td>\n",
       "    </tr>\n",
       "    <tr>\n",
       "      <th>473</th>\n",
       "      <td>474</td>\n",
       "      <td>Dr. Strangelove or: How I Learned to Stop Worr...</td>\n",
       "      <td>0</td>\n",
       "      <td>4.517994</td>\n",
       "    </tr>\n",
       "    <tr>\n",
       "      <th>529</th>\n",
       "      <td>530</td>\n",
       "      <td>Man Who Would Be King, The (1975)</td>\n",
       "      <td>0</td>\n",
       "      <td>4.488413</td>\n",
       "    </tr>\n",
       "    <tr>\n",
       "      <th>653</th>\n",
       "      <td>654</td>\n",
       "      <td>Chinatown (1974)</td>\n",
       "      <td>0</td>\n",
       "      <td>4.465328</td>\n",
       "    </tr>\n",
       "    <tr>\n",
       "      <th>492</th>\n",
       "      <td>493</td>\n",
       "      <td>Thin Man, The (1934)</td>\n",
       "      <td>0</td>\n",
       "      <td>4.459957</td>\n",
       "    </tr>\n",
       "  </tbody>\n",
       "</table>\n",
       "</div>"
      ],
      "text/plain": [
       "     movie_id                                              title  genres  \\\n",
       "407       408                              Close Shave, A (1995)       0   \n",
       "356       357             One Flew Over the Cuckoo's Nest (1975)       0   \n",
       "301       302                           L.A. Confidential (1997)       0   \n",
       "312       313                                     Titanic (1997)       0   \n",
       "483       484                         Maltese Falcon, The (1941)       0   \n",
       "317       318                            Schindler's List (1993)       0   \n",
       "473       474  Dr. Strangelove or: How I Learned to Stop Worr...       0   \n",
       "529       530                  Man Who Would Be King, The (1975)       0   \n",
       "653       654                                   Chinatown (1974)       0   \n",
       "492       493                               Thin Man, The (1934)       0   \n",
       "\n",
       "       rating  \n",
       "407  4.712775  \n",
       "356  4.707950  \n",
       "301  4.689471  \n",
       "312  4.683084  \n",
       "483  4.596896  \n",
       "317  4.589585  \n",
       "473  4.517994  \n",
       "529  4.488413  \n",
       "653  4.465328  \n",
       "492  4.459957  "
      ]
     },
     "execution_count": 84,
     "metadata": {},
     "output_type": "execute_result"
    }
   ],
   "source": [
    "get_user_recommendations(1,10)"
   ]
  },
  {
   "attachments": {},
   "cell_type": "markdown",
   "metadata": {},
   "source": [
    "#### Item-based collaborative filtering"
   ]
  },
  {
   "attachments": {},
   "cell_type": "markdown",
   "metadata": {},
   "source": [
    "The code provides a simple way to implement item-based collaborative filtering for making movie recommendations based on user ratings.\n",
    "\n",
    "The code computes the similarity matrix between the items (movies) in the dataset using the cosine similarity metric. This creates a square matrix where each row and column represents a movie, and the values in the matrix represent the cosine similarity between each pair of movies.\n",
    "\n",
    "The get_movie_recommendations() function takes a movie title and an optional parameter n which defaults to 10. It gets the index of the movie in the user-item matrix, and computes the similarity scores between the movie and all other movies using the item similarity matrix. It then sorts the movies based on the similarity scores and returns the top n most similar movies. Finally, it returns the titles of the recommended movies."
   ]
  },
  {
   "cell_type": "code",
   "execution_count": 85,
   "metadata": {},
   "outputs": [],
   "source": [
    "# We need to preprocess the data and prepare it for modeling. In this case, we need to merge the ratings and movies dataframes, and create a\n",
    "# user-item matrix.\n",
    "ratings_movies_df = pd.merge(ratings_df, movies_df, on='movie_id')\n",
    "user_item_matrix = ratings_movies_df.pivot_table(index='user_id', columns='title', values='rating')\n",
    "user_item_matrix = user_item_matrix.fillna(0)\n",
    "\n",
    "# Compute similarity matrix between the items (movies) in the dataset. We can use the cosine similarity metric for this.\n",
    "item_similarity = cosine_similarity(user_item_matrix.T)"
   ]
  },
  {
   "cell_type": "code",
   "execution_count": 86,
   "metadata": {},
   "outputs": [],
   "source": [
    "# We can now make recommendations based on the similarity matrix. For a given movie, we can find the most similar movies and recommend them.\n",
    "\n",
    "def get_movie_recommendations(movie_title, n=10):\n",
    "    # Get the index of the movie\n",
    "    movie_idx = user_item_matrix.columns.get_loc(movie_title)\n",
    "\n",
    "    # Get the similarity scores between the movie and all other movies\n",
    "    sim_scores = list(enumerate(item_similarity[movie_idx]))\n",
    "\n",
    "    # Sort the movies based on the similarity scores\n",
    "    sim_scores = sorted(sim_scores, key=lambda x: x[1], reverse=True)\n",
    "\n",
    "    # Get the top n most similar movies\n",
    "    sim_scores = sim_scores[1:n+1]\n",
    "    movie_indices = [i[0] for i in sim_scores]\n",
    "\n",
    "    # Return the titles of the recommended movies\n",
    "    return user_item_matrix.columns[movie_indices]"
   ]
  },
  {
   "cell_type": "code",
   "execution_count": 87,
   "metadata": {},
   "outputs": [
    {
     "data": {
      "text/plain": [
       "Index(['Star Wars (1977)', 'Return of the Jedi (1983)',\n",
       "       'Independence Day (ID4) (1996)', 'Rock, The (1996)',\n",
       "       'Mission: Impossible (1996)'],\n",
       "      dtype='object', name='title')"
      ]
     },
     "execution_count": 87,
     "metadata": {},
     "output_type": "execute_result"
    }
   ],
   "source": [
    "get_movie_recommendations('Toy Story (1995)', n=5)"
   ]
  }
 ],
 "metadata": {
  "kernelspec": {
   "display_name": "base",
   "language": "python",
   "name": "python3"
  },
  "language_info": {
   "codemirror_mode": {
    "name": "ipython",
    "version": 3
   },
   "file_extension": ".py",
   "mimetype": "text/x-python",
   "name": "python",
   "nbconvert_exporter": "python",
   "pygments_lexer": "ipython3",
   "version": "3.8.8"
  },
  "orig_nbformat": 4,
  "vscode": {
   "interpreter": {
    "hash": "8303339972bdb159c87908e1ad1dec734d7dddb0bb76ac5f42158d17a730f122"
   }
  }
 },
 "nbformat": 4,
 "nbformat_minor": 2
}
